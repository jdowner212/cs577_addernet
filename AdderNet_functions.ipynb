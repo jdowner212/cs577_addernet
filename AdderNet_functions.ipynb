{
  "nbformat": 4,
  "nbformat_minor": 0,
  "metadata": {
    "colab": {
      "provenance": [],
      "collapsed_sections": []
    },
    "kernelspec": {
      "name": "python3",
      "display_name": "Python 3"
    },
    "language_info": {
      "name": "python"
    }
  },
  "cells": [
    {
      "cell_type": "code",
      "source": [
        "import numpy as np\n",
        "import torch"
      ],
      "metadata": {
        "id": "Q_XpZyGb_QSq"
      },
      "execution_count": 2,
      "outputs": []
    },
    {
      "cell_type": "code",
      "execution_count": null,
      "metadata": {
        "id": "4LmN5vhI-2d7"
      },
      "outputs": [],
      "source": [
        "import numpy as np\n",
        "import torch\n",
        "\n",
        "def L1(a,b):\n",
        "    return -1*np.abs(a-b)\n",
        "\n",
        "'''Equation 1'''\n",
        "def cross_correlation(X, F, m, n, t, similarity_f):\n",
        "    # F.shape returns (#filters, #channels, #rows, #columns)\n",
        "    # X.shape returns (#channels, #rows, #columns)\n",
        "    # t specifies filter #\n",
        "    sum_ = 0\n",
        "    _, c_in, d, _ = F.shape     \n",
        "    for k in range(c_in):\n",
        "        for j in range(d):\n",
        "            for i in range(d):\n",
        "                sum_ += similarity_f(X[k, m+i, n+j], F[i, j, k, t])\n",
        "    return sum_\n",
        "\n",
        "'''Equation 2'''\n",
        "# equal to cross_correlation with similarity_f=L1\n",
        "\n",
        "'''Equation 3'''\n",
        "# ignore -- CNN formula\n",
        "\n",
        "'''Equation 4'''\n",
        "# ignore -- updated with equation 5\n",
        "\n",
        "'''Equation 5'''\n",
        "# ignore -- updated with equation 7\n",
        "\n",
        "'''Equation 7'''\n",
        "def hard_tanh(value):\n",
        "    if -1 < value and value < 1:\n",
        "        return value\n",
        "    elif value > 1:\n",
        "        return 1\n",
        "    elif value < -1:\n",
        "        return -1\n",
        "\n",
        "'''Equation 6'''\n",
        "def dY_dX(X,F,m,n,i,j,k,t):\n",
        "    # clipped, full-precision gradient\n",
        "    X_ = X[k,m+i,n+j]\n",
        "    F_ = F[t,k,i,j]\n",
        "    return hard_tanh(X_ - F_)\n",
        "\n",
        "'''Equation 8'''\n",
        "# ignore -- CNN formula\n",
        "\n",
        "'''Equation 9'''\n",
        "def var_Y_adder(X,F,torch.var):\n",
        "    # check torch.var documentation: https://pytorch.org/docs/stable/generated/torch.var.html\n",
        "    # not sure if we can call torch.var(X) with default parameters\n",
        "    # or if we need to specify\n",
        "    var_X = torch.var(X)\n",
        "    var_F = torch.var(F)\n",
        "    ###\n",
        "    _, c_in, d, _ = F.shape\n",
        "    pi = np.pi\n",
        "\n",
        "    return np.sqrt(pi/2)*(d**2)*(c_in)*(var_X + var_F)\n",
        "\n",
        "\n",
        "\n",
        "\n",
        "    "
      ]
    }
  ]
}