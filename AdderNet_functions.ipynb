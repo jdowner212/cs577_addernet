{
  "cells": [
    {
      "cell_type": "markdown",
      "metadata": {
        "id": "view-in-github",
        "colab_type": "text"
      },
      "source": [
        "<a href=\"https://colab.research.google.com/github/jdowner212/cs577_addernet/blob/main/AdderNet_functions.ipynb\" target=\"_parent\"><img src=\"https://colab.research.google.com/assets/colab-badge.svg\" alt=\"Open In Colab\"/></a>"
      ]
    },
    {
      "cell_type": "code",
      "source": [
        "import os"
      ],
      "metadata": {
        "id": "xJBCiQ6eoTki"
      },
      "execution_count": 2,
      "outputs": []
    },
    {
      "cell_type": "markdown",
      "source": [
        "## Before running:\n",
        "\n",
        "1. Set `root` (below) to chosen directory"
      ],
      "metadata": {
        "id": "MHklBShmoUGa"
      }
    },
    {
      "cell_type": "code",
      "execution_count": 3,
      "metadata": {
        "id": "e0fhNZSGfHwc"
      },
      "outputs": [],
      "source": [
        "root = os.getcwd() # whatever you want"
      ]
    },
    {
      "cell_type": "markdown",
      "source": [
        "2. Download CIFAR10 data"
      ],
      "metadata": {
        "id": "W3P8qFKGogvx"
      }
    },
    {
      "cell_type": "code",
      "source": [
        "import tarfile\n",
        "\n",
        "\n",
        "!wget https://www.cs.toronto.edu/~kriz/cifar-10-python.tar.gz\n",
        "data_zip = os.path.join(root,'cifar-10-python.tar.gz')\n",
        "f = tarfile.open(data_zip)\n",
        "f.extractall(root) \n",
        "f.close()\n",
        "os.remove(data_zip)"
      ],
      "metadata": {
        "id": "wr8unJnXocpK",
        "outputId": "8934c866-8c10-4576-f3d8-76502d5a01c6",
        "colab": {
          "base_uri": "https://localhost:8080/"
        }
      },
      "execution_count": 6,
      "outputs": [
        {
          "output_type": "stream",
          "name": "stdout",
          "text": [
            "--2022-11-16 00:04:25--  https://www.cs.toronto.edu/~kriz/cifar-10-python.tar.gz\n",
            "Resolving www.cs.toronto.edu (www.cs.toronto.edu)... 128.100.3.30\n",
            "Connecting to www.cs.toronto.edu (www.cs.toronto.edu)|128.100.3.30|:443... connected.\n",
            "HTTP request sent, awaiting response... 200 OK\n",
            "Length: 170498071 (163M) [application/x-gzip]\n",
            "Saving to: ‘cifar-10-python.tar.gz.2’\n",
            "\n",
            "cifar-10-python.tar 100%[===================>] 162.60M  57.1MB/s    in 2.8s    \n",
            "\n",
            "2022-11-16 00:04:28 (57.1 MB/s) - ‘cifar-10-python.tar.gz.2’ saved [170498071/170498071]\n",
            "\n"
          ]
        }
      ]
    },
    {
      "cell_type": "code",
      "execution_count": 22,
      "metadata": {
        "id": "Q_XpZyGb_QSq"
      },
      "outputs": [],
      "source": [
        "import numpy as np\n",
        "import tensorflow as tf\n",
        "#import tensorflow.keras.backend as K\n",
        "from tensorflow.python.ops.numpy_ops import np_config\n",
        "import pickle\n",
        "import tensorflow.keras.utils as np_utils\n",
        "np_config.enable_numpy_behavior()\n",
        "from scipy.sparse import diags"
      ]
    },
    {
      "cell_type": "code",
      "execution_count": 23,
      "metadata": {
        "id": "GcKuPTjCjLEo"
      },
      "outputs": [],
      "source": [
        "def L1(a,b):\n",
        "    return np.abs(a-b)\n",
        "\n",
        "def hard_tanh(array):\n",
        "    array = np.where(array<-1,-1,array)\n",
        "    array = np.where(array>1, 1, array)\n",
        "    return array"
      ]
    },
    {
      "cell_type": "markdown",
      "metadata": {
        "id": "ISUhuC_DB9_7"
      },
      "source": [
        "# Layer definitions"
      ]
    },
    {
      "cell_type": "markdown",
      "metadata": {
        "id": "LD9vhW-tCBj7"
      },
      "source": [
        "### `Layer` parent class"
      ]
    },
    {
      "cell_type": "code",
      "execution_count": 24,
      "metadata": {
        "id": "uH98VMolxy1J"
      },
      "outputs": [],
      "source": [
        "class Layer:\n",
        "    def __init__(self):\n",
        "        self.input = None\n",
        "        self.output = None\n",
        "\n",
        "    def forward(self, X):\n",
        "        raise NotImplementedError\n",
        "\n",
        "    def backward(self, upstream_g, learning_rate):\n",
        "        raise NotImplementedError"
      ]
    },
    {
      "cell_type": "markdown",
      "metadata": {
        "id": "bWAo_-8WCFZx"
      },
      "source": [
        "### `Adder` layer"
      ]
    },
    {
      "cell_type": "code",
      "execution_count": 44,
      "metadata": {
        "id": "CnPeNX0zDoEQ"
      },
      "outputs": [],
      "source": [
        "def adder_single_step(window, filter_, similarity_f=L1):\n",
        "    \"\"\"\n",
        "    window -- k_h x k_w x k_d\n",
        "    filter -- k_h x k_w x k_d\n",
        "    b      -- 1x1x1\n",
        "    Z      -- scalar\n",
        "    \"\"\"\n",
        "    #H_k,W_k,D_k = filter_.shape\n",
        "    #out=0\n",
        "    #for h in range(H_k):\n",
        "    #    for w in range(W_k):\n",
        "    #        for d in range(D_k):\n",
        "    #            out += similarity_f(window[h,w,d], filter_[h,w,d])\n",
        "    return np.abs(window-filter_).sum()\n",
        "    #return out\n",
        "\n",
        "class adder_layer(Layer):\n",
        "    def __init__(self,output_channels,kernel_size=3,stride=1,padding=0,bias=None,similarity_f = L1,input_channels=None,adaptive_eta=0):\n",
        "        self.output_channels = output_channels\n",
        "\n",
        "\n",
        "        self.input_channels=None if not input_channels else input_channels\n",
        "        self.output_channels = output_channels\n",
        "        self.adaptive_eta=0\n",
        "\n",
        "        # making weight instantiation optional in case we want to infer input channels from forward pass rather than defining explicitly\n",
        "        self.kernel_size=kernel_size        \n",
        "        self.stride = stride\n",
        "        self.padding = padding\n",
        "        bias = np.zeros((1,1,1,self.output_channels)) if not bias else bias\n",
        "        self.bias = bias\n",
        "        self.similarity_f = similarity_f\n",
        "\n",
        "\n",
        "    def get_adaptive_lr(self, k, dfilters, eta):\n",
        "        \"\"\"    \n",
        "        k           -- n_tensors \n",
        "        dfilters    -- c_out x k_H x k_W x c_in\n",
        "        eta         -- scalar\n",
        "        \"\"\"\n",
        "\n",
        "        eps=np.random.uniform(1e-07,1e-06)\n",
        "\n",
        "        \n",
        "        norm = np.linalg.norm(dfilters, ord=2, axis=0)\n",
        "        return (eta * np.sqrt(k)) / (norm+eps)\n",
        "\n",
        "\n",
        "    def forward(self,X):\n",
        "        \"\"\"    \n",
        "        X       -- n_tensors x H x W x c_in\n",
        "        filters -- c_out x k_H x k_W x c_in\n",
        "        b       -- c_out x 1 x 1 x 1\n",
        "        Z       -- n_tensors x H_new x W_new, c_out\n",
        "        cache   -- info needed for backward pass\n",
        "        \"\"\"\n",
        "        self.input = X\n",
        "\n",
        "        # in case input size not given\n",
        "        self.input_channels = X.shape[-1]\n",
        "        #if self.filters==None:\n",
        "        self.filters = np.random.normal(loc=0,scale=1,size=(self.output_channels, self.kernel_size, self.kernel_size, self.input_channels))\n",
        "\n",
        "        filters,stride,padding,bias = self.filters, self.stride, self.padding, self.bias\n",
        "        n_tensors, H,   W,   c_in = X.shape\n",
        "        c_out,     H_k, W_k, c_in = filters.shape\n",
        "        n_filters = c_out\n",
        "\n",
        "        X_padded = np.pad(X, ((0,0), (padding,padding), (padding,padding), (0,0)), 'constant', constant_values = (0,0))\n",
        "        H_new = int((H + 2*padding - H_k)/stride)+1\n",
        "        W_new = int((W + 2*padding - W_k)/stride)+1\n",
        "\n",
        "        Z = np.zeros([n_tensors, H_new, W_new, c_out])\n",
        "\n",
        "        for i in range(n_tensors):           # traverse batch\n",
        "            this_img = X_padded[i,:,:,:]     # select ith image in batch\n",
        "            for f in range(n_filters):       # traverse filters\n",
        "                this_filter = filters[f,:,:,:]\n",
        "                #this_bias = bias[f,:,:,:]\n",
        "                for h in range(H_new):       # traverse height\n",
        "                    for w in range(W_new):   # traverse width\n",
        "                        \n",
        "                        v0,v1 = h*stride, h*stride + H_k\n",
        "                        h0,h1 = w*stride, w*stride + W_k\n",
        "                        \n",
        "                        this_window = this_img[v0:v1,h0:h1,:]\n",
        "\n",
        "                        Z[i, h, w, f] = adder_single_step(this_window, this_filter)#, this_bias) \n",
        "\n",
        "        assert Z.shape == (n_tensors, H_new, W_new, n_filters)\n",
        "\n",
        "        self.output = Z\n",
        "        self.cache = X, filters, bias, stride, padding\n",
        "        \n",
        "        return self.output\n",
        "\n",
        "    def backward(self, upstream_g, learning_rate):\n",
        "        \"\"\"\n",
        "        upstream_g (dL/dZ) -- n_tensors x H_up x W_up x c_up\n",
        "        cache (values from previous layers) -- (X, W, B, s, p)               \n",
        "        \n",
        "        Output:\n",
        "        dX -- dL/dX, shape n_tensors x H_down x W_down x c_down\n",
        "        dF -- dL/dW, shape n_filters x k x k x k\n",
        "        dB -- dL/dB, shape n_filters x 1 x 1 x 1\n",
        "        \"\"\"\n",
        "        \n",
        "        X, filters, bias, stride, padding = self.cache\n",
        "\n",
        "        n_tensors, H_down, W_down, c_down = X.shape\n",
        "        n_filters, H_k,    W_k,    c_down = filters.shape\n",
        "        n_tensors, H_up,   W_up,   c_up   = upstream_g.shape\n",
        "        \n",
        "        dX       = np.zeros_like(X)                           \n",
        "        dfilters = np.zeros_like(filters)\n",
        "        #dbias    = np.zeros((n_filters, 1,1,c_down))\n",
        "\n",
        "        X_padded  = np.pad(X,  ((0,0), (padding,padding), (padding,padding), (0,0)), 'constant', constant_values = (0,0))\n",
        "        dX_padded = np.pad(dX, ((0,0), (padding,padding), (padding,padding), (0,0)), 'constant', constant_values = (0,0))\n",
        "        \n",
        "        for i in range(n_tensors):                       \n",
        "            x = X_padded[i]\n",
        "            dx = dX_padded[i]\n",
        "            \n",
        "            for h in range(H_up):                   # traverse height\n",
        "                for w in range(W_up):               # traverse width\n",
        "                    for c in range(c_up):           # traverse filters\n",
        "                        \n",
        "                        v0,v1 = h,h+H_k\n",
        "                        h0,h1 = w,w+W_k\n",
        "                        \n",
        "                        x_window = x[v0:v1, h0:h1, :]\n",
        "                        f_window = filters[c,:,:,:]\n",
        "\n",
        "                        dx_local = x_window-f_window\n",
        "                        df_local = hard_tanh(f_window-x_window)\n",
        "\n",
        "                        g = upstream_g[i, h, w, c]\n",
        "\n",
        "                        dx[v0:v1, v0:v1, :] += dx_local * g\n",
        "                        dfilters[c,:,:,:]   += df_local * g\n",
        "                        #dbias[c,:,:,:]      += g\n",
        "                        \n",
        "            dX[i, :, :, :] = dx[padding:-padding, padding:-padding, :]\n",
        "        \n",
        "        assert(dX.shape == (n_tensors, H_down, W_down, c_down))\n",
        "\n",
        "\n",
        "        adaptive_lr = self.get_adaptive_lr(n_filters, dfilters, self.adaptive_eta)\n",
        "\n",
        "        self.filters -= learning_rate*adaptive_lr*dfilters\n",
        "        #self.bias    -= learning_rate*dbias\n",
        "\n",
        "        return dX"
      ]
    },
    {
      "cell_type": "code",
      "execution_count": 45,
      "metadata": {
        "id": "BztaNByshHDN"
      },
      "outputs": [],
      "source": [
        "'''\n",
        "dimension format/convention: NxHxWxC -- this is really unintuitive to me but i saw it in some tf \n",
        "documentation and thought it might make our lives easier later. Def not married to it\n",
        "'''\n",
        "\n",
        "\n",
        "def conv_single_step(window, filter_, bias):\n",
        "    \"\"\"\n",
        "    window -- k_h x k_w x k_d\n",
        "    filter_ -- k_h x k_w x k_d\n",
        "    b      -- 1x1x1\n",
        "    Z      -- scalar\n",
        "    \"\"\"\n",
        "    out = np.sum((np.multiply(window,filter_) + bias.astype(float))).astype(float)\n",
        "    \n",
        "    return out\n",
        "\n",
        "class conv_layer(Layer):\n",
        "    def __init__(self,output_channels,kernel_size=3,stride=1,padding=0,similarity_f = L1):\n",
        "        self.output_channels = output_channels\n",
        "\n",
        "\n",
        "        self.output_channels = output_channels\n",
        "        self.adaptive_eta=0\n",
        "\n",
        "        self.kernel_size=kernel_size        \n",
        "        self.stride = stride\n",
        "        self.padding = padding\n",
        "\n",
        "\n",
        "\n",
        "    def forward(self,X):\n",
        "        \"\"\"    \n",
        "        X       -- n_tensors x H x W x c_in\n",
        "        filters -- c_out x k_H x k_W x c_in\n",
        "        b       -- c_out x 1 x 1 x 1\n",
        "        Z       -- n_tensors x H_new x W_new, c_out\n",
        "        cache   -- info needed for backward pass\n",
        "        \"\"\"\n",
        "        self.input = X\n",
        "\n",
        "        # in case input size not given\n",
        "        self.input_channels = X.shape[-1]\n",
        "\n",
        "        self.filters = np.random.normal(loc=0,scale=1,size=(self.output_channels, self.kernel_size, self.kernel_size, self.input_channels))\n",
        "        self.bias    = np.random.normal(loc=0,scale=1,size=(self.output_channels, 1,1,1))\n",
        "        \n",
        "        filters,stride,padding,bias = self.filters, self.stride, self.padding, self.bias\n",
        "        n_tensors, H,   W,   c_in = X.shape\n",
        "        c_out,     H_k, W_k, c_in = filters.shape\n",
        "        n_filters = c_out\n",
        "\n",
        "        X_padded = np.pad(X, ((0,0), (padding,padding), (padding,padding), (0,0)), 'constant', constant_values = (0,0))\n",
        "        H_new = int((H + 2*padding - H_k)/stride)+1\n",
        "        W_new = int((W + 2*padding - W_k)/stride)+1\n",
        "\n",
        "        Z = np.zeros([n_tensors, H_new, W_new, c_out])\n",
        "\n",
        "        for i in range(n_tensors):           # traverse batch\n",
        "            this_img = X_padded[i,:,:,:]     # select ith image in batch\n",
        "            for f in range(n_filters):       # traverse filters\n",
        "                this_filter = filters[f,:,:,:]\n",
        "                this_bias   = bias[f,:,:,:]\n",
        "                for h in range(H_new):       # traverse height\n",
        "                    for w in range(W_new):   # traverse width\n",
        "                        \n",
        "                        v0,v1 = h*stride, h*stride + H_k\n",
        "                        h0,h1 = w*stride, w*stride + W_k\n",
        "                        \n",
        "                        this_window = this_img[v0:v1,h0:h1,:]\n",
        "\n",
        "                        Z[i, h, w, f] = conv_single_step(this_window, this_filter, this_bias) \n",
        "\n",
        "        assert Z.shape == (n_tensors, H_new, W_new, n_filters)\n",
        "\n",
        "        self.output = Z\n",
        "        self.cache = X, filters, bias, stride, padding\n",
        "        \n",
        "        return self.output\n",
        "\n",
        "    def backward(self, upstream_g, learning_rate):\n",
        "        \"\"\"\n",
        "        upstream_g (dL/dZ) -- n_tensors x H_up x W_up x c_up\n",
        "        cache (values from previous layers) -- (X, W, B, s, p)               \n",
        "        \n",
        "        Output:\n",
        "        dX -- dL/dX, shape n_tensors x H_down x W_down x c_down\n",
        "        dF -- dL/dW, shape n_filters x k x k x k\n",
        "        dB -- dL/dB, shape n_filters x 1 x 1 x 1\n",
        "        \"\"\"\n",
        "        \n",
        "        X, filters, bias, stride, padding = self.cache\n",
        "\n",
        "        n_tensors, H_down, W_down, c_down = X.shape\n",
        "        n_filters, H_k,    W_k,    c_down = filters.shape\n",
        "        n_tensors, H_up,   W_up,   c_up   = upstream_g.shape\n",
        "        \n",
        "        dX       = np.zeros_like(X)                           \n",
        "        dfilters = np.zeros_like(filters)\n",
        "        dbias    = np.zeros((n_filters, 1,1,1))\n",
        "\n",
        "        X_padded  = np.pad(X,  ((0,0), (padding,padding), (padding,padding), (0,0)), 'constant', constant_values = (0,0))\n",
        "        dX_padded = np.pad(dX, ((0,0), (padding,padding), (padding,padding), (0,0)), 'constant', constant_values = (0,0))\n",
        "        \n",
        "        for i in range(n_tensors):                       \n",
        "            x = X_padded[i]\n",
        "            dx = dX_padded[i]\n",
        "            \n",
        "            for h in range(H_up):                   # traverse height\n",
        "                for w in range(W_up):               # traverse width\n",
        "                    for c in range(c_up):           # traverse filters\n",
        "                        \n",
        "                        v0,v1 = h,h+H_k\n",
        "                        h0,h1 = w,w+W_k\n",
        "                        \n",
        "                        x_window = x[v0:v1, h0:h1, :]\n",
        "                        f_window = filters[c,:,:,:]\n",
        "\n",
        "                        dx_local = x_window-f_window\n",
        "                        df_local = hard_tanh(f_window-x_window)\n",
        "\n",
        "                        g = upstream_g[i, h, w, c]\n",
        "\n",
        "                        dx[v0:v1, v0:v1, :] += dx_local * g\n",
        "                        dfilters[c,:,:,:]   += df_local * g\n",
        "                        dbias[c,:,:,:]      += g\n",
        "                        \n",
        "            dX[i, :, :, :] = dx[padding:-padding, padding:-padding, :]\n",
        "        \n",
        "        assert(dX.shape == (n_tensors, H_down, W_down, c_down))\n",
        "\n",
        "        self.filters -= learning_rate*dfilters\n",
        "        self.bias    -= learning_rate*dbias\n",
        "\n",
        "        return dX"
      ]
    },
    {
      "cell_type": "markdown",
      "metadata": {
        "id": "gVevHrit5823"
      },
      "source": [
        "### Fully-connected layer"
      ]
    },
    {
      "cell_type": "code",
      "execution_count": 46,
      "metadata": {
        "id": "Ut73yN6458Nc"
      },
      "outputs": [],
      "source": [
        "class FullyConnected(Layer):\n",
        "    def __init__(self,output_channels):\n",
        "        super(Layer, self).__init__()\n",
        "        self.output_channels = output_channels\n",
        "\n",
        "    def forward(self, X):\n",
        "        self.input = X\n",
        "        self.input_channels = X.shape[-1]\n",
        "        self.weights = np.random.normal(loc=0,scale=1,size=(self.input_channels,self.output_channels))\n",
        "        self.bias = np.random.normal(loc=0,scale=1,size=(X.shape[0], self.output_channels))\n",
        "        self.output = np.dot(self.input, self.weights) + self.bias\n",
        "        return self.output\n",
        "\n",
        "    def backward(self, upstream_g, learning_rate):\n",
        "        dX    = np.dot(upstream_g, self.weights.T)\n",
        "        dW    = np.dot(self.input.T, upstream_g)\n",
        "        dbias = upstream_g\n",
        "\n",
        "        self.weights -= learning_rate*dW\n",
        "        self.bias    -= learning_rate*dbias\n",
        "\n",
        "        return dX"
      ]
    },
    {
      "cell_type": "markdown",
      "metadata": {
        "id": "wuAVweO_Apj4"
      },
      "source": [
        "### Flatten layer"
      ]
    },
    {
      "cell_type": "code",
      "execution_count": 47,
      "metadata": {
        "id": "J_v6tBkaArdE"
      },
      "outputs": [],
      "source": [
        "class Flatten(Layer):\n",
        "    def forward(self, X):\n",
        "        self.original_shape = X.shape\n",
        "        self.output = X.reshape(X.shape[0],np.product(X.shape[1:]))\n",
        "        return self.output\n",
        "\n",
        "    def backward(self, upstream_g, learning_rate):\n",
        "        return upstream_g.reshape(self.original_shape)"
      ]
    },
    {
      "cell_type": "markdown",
      "metadata": {
        "id": "RjpocIPJHz-0"
      },
      "source": [
        "### BatchNorm Layer"
      ]
    },
    {
      "cell_type": "code",
      "execution_count": 48,
      "metadata": {
        "id": "kpzQWoTFH1rv"
      },
      "outputs": [],
      "source": [
        "class batch_norm_layer(Layer):\n",
        "    def __init__(self, gamma=None,beta=None):\n",
        "\n",
        "        gamma = None if not gamma else gamma\n",
        "        self.gamma = gamma\n",
        "        beta = None if not beta else beta\n",
        "        self.beta = beta\n",
        "\n",
        "    def forward(self, X):\n",
        "        \"\"\"    \n",
        "        X       -- n_tensors x H x W x c_in\n",
        "        gamma   -- n_tensors x 1 x 1 x 1\n",
        "        beta    -- n_tensors x 1 x 1 x 1\n",
        "        cache   -- info needed for backward pass\n",
        "        \"\"\"\n",
        "\n",
        "        self.input = X\n",
        "\n",
        "        self.gamma = np.ones((X.shape[0],1,1,1))\n",
        "        self.beta = np.zeros((X.shape[0],1,1,1))\n",
        "\n",
        "\n",
        "        mean = np.mean(X,axis=(0, 1, 2), keepdims=True)\n",
        "        var = np.mean(((X-mean)**2), axis=(0, 1, 2), keepdims=True)\n",
        "        std = np.sqrt(var)\n",
        "\n",
        "        eps=np.random.uniform(1e-07,1e-06)\n",
        "\n",
        "        \n",
        "        X_center = X - mean\n",
        "        X_norm = X_center/(std+eps)\n",
        "\n",
        "        self.output = X_norm*self.gamma + self.beta\n",
        "        \n",
        "        self.cache = X, X_center, X_norm\n",
        "\n",
        "        return self.output \n",
        "\n",
        "\n",
        "    def backward(self, upstream_g, learning_rate):\n",
        "        \"\"\"\n",
        "        upstream_g (dL/dZ) -- n_tensors x H_up x W_up x c_up\n",
        "        cache (values from previous layers) -- (X, X_norm)               \n",
        "        \n",
        "        Output:\n",
        "        dX -- dL/dX, shape n_tensors x H_down x W_down x c_down\n",
        "        dF -- dL/dW, shape n_filters x k x k x k\n",
        "        dB -- dL/dB, shape n_filters x 1 x 1 x 1\n",
        "        \"\"\"\n",
        "\n",
        "        X, X_center, X_norm = self.cache\n",
        "\n",
        "        dGamma = np.sum(upstream_g * X_norm, axis=0)\n",
        "        dBeta = np.sum(upstream_g, axis=0)\n",
        "\n",
        "        m = len(X)\n",
        "        mean = np.mean(X)\n",
        "        std = np.std(X)\n",
        "        \n",
        "        dX = np.zeros_like(X)\n",
        "\n",
        "        for i in range(m):\n",
        "            for j in range(m):\n",
        "                dX[i] += (upstream_g[i] - upstream_g[j]*(1 + (X[i]-X[j])*(X[j]-mean)/std))\n",
        "        dX *= self.gamma/((m**2)*std)\n",
        "        \n",
        "        self.gamma = self.gamma - learning_rate*dGamma\n",
        "        self.beta = self.beta - learning_rate*dBeta\n",
        "\n",
        "        return dX"
      ]
    },
    {
      "cell_type": "markdown",
      "metadata": {
        "id": "D2t7dqw4ngiD"
      },
      "source": [
        "### Maxpool layer"
      ]
    },
    {
      "cell_type": "code",
      "execution_count": 49,
      "metadata": {
        "id": "_zJEQA1fAzVS"
      },
      "outputs": [],
      "source": [
        "class MaxPool(Layer):\n",
        "    def __init__(self,pool_size=2):\n",
        "        self.pool_size=pool_size\n",
        "        self.stride = pool_size\n",
        "\n",
        "    def forward(self,X):\n",
        "        n_tensors, H, W, c_in = X.shape\n",
        "\n",
        "        H_new = int(1 + (H - self.pool_size) / self.stride)\n",
        "        W_new = int(1 + (W - self.pool_size) / self.stride)\n",
        "        c_out = c_in\n",
        "        \n",
        "        Z = np.zeros((n_tensors, H_new, W_new, c_out))              \n",
        "        \n",
        "        for i in range(n_tensors):                     # loop over the training examples\n",
        "            for h in range(H_new):                     # loop on the vertical axis of the output volume\n",
        "                for w in range(W_new):                 # loop on the horizontal axis of the output volume\n",
        "                    for c in range(c_out):             # loop over the channels of the output volume\n",
        "                        \n",
        "                        v0,v1 = h*self.stride, h*self.stride + self.pool_size\n",
        "                        h0,h1 = w*self.stride, w*self.stride + self.pool_size\n",
        "                        \n",
        "                        window = X[i, v0:v1, h0:h1,c]\n",
        "                    \n",
        "                        Z[i, h, w, c] = np.max(window)\n",
        "\n",
        "        self.output = Z\n",
        "        self.cache = X, self.pool_size, self.stride\n",
        "        \n",
        "        return self.output\n",
        "\n",
        "    def backward(self, upstream_g,learning_rate):\n",
        "        X, pool_size, stride = self.cache\n",
        "\n",
        "        n_tensors, H_down, W_down, c_down = X.shape\n",
        "        n_tensors, H_up,   W_up,   c_up   = upstream_g.shape\n",
        "\n",
        "\n",
        "        dX = np.zeros(X.shape)\n",
        "        \n",
        "        for i in range(n_tensors):                       \n",
        "            x = X[i]\n",
        "            for h in range(H_up):       \n",
        "            \n",
        "                for w in range(W_up):    \n",
        "                    for c in range(c_up):       \n",
        "                        v0,v1 = h, h+pool_size\n",
        "                        h0,h1 = w, w+pool_size\n",
        "\n",
        "                        x_window = x[v0:v1, h0:h1, c]\n",
        "                        \n",
        "                        local_g = np.where(x_window==np.max(x_window),1,0)\n",
        "                        g       = upstream_g[i, h, w, c]\n",
        "                         \n",
        "                        dX[i, v0:v1, h0:h1, c] += local_g * g\n",
        "\n",
        "        assert(dX.shape == X.shape)\n",
        "        \n",
        "        return dX\n"
      ]
    },
    {
      "cell_type": "markdown",
      "metadata": {
        "id": "RO7MWk0_B3XO"
      },
      "source": [
        "### Activation layers"
      ]
    },
    {
      "cell_type": "code",
      "execution_count": 95,
      "metadata": {
        "id": "jLa7JtufB6Tr"
      },
      "outputs": [],
      "source": [
        "def relu_fwd(X):\n",
        "    return np.where(X>=0,X,0)\n",
        "def relu_bwd(X):\n",
        "    return np.where(X>=0,1,0)\n",
        "\n",
        "def softmax_fwd(x):\n",
        "    soft = tf.nn.softmax(x)\n",
        "    return soft.numpy()\n",
        "\n",
        "def softmax_bwd(X): \n",
        "    s = softmax_fwd(X)\n",
        "    d = np.diag(s)\n",
        "    J = diags(d, shape=s.shape).toarray()\n",
        "\n",
        "    for i in range(len(J)):\n",
        "        for j in range(len(J[i])):\n",
        "            if i == j:\n",
        "                J[i][j] = s[i][j] * (1-s[i][j])\n",
        "            else: \n",
        "                J[i][j] = -s[i][j]*s[i][j]\n",
        "    return J\n",
        "\n",
        "def sig_fwd(X):\n",
        "    return 1/(1 + np.exp(-X))\n",
        "def sig_bwd(X):\n",
        "    return sig_fwd(X) * (1 - sig_fwd(X))\n",
        "\n",
        "\n",
        "activation_dict = {'relu':    {'forward':  relu_fwd,\n",
        "                               'backward': relu_bwd},\n",
        "                   'softmax': {'forward':  softmax_fwd,\n",
        "                               'backward': softmax_bwd},\n",
        "                   'sigmoid': {'forward':  sig_fwd,\n",
        "                               'backward': sig_bwd}}\n",
        "\n",
        "\n",
        "class Activation(Layer):\n",
        "    def __init__(self,activation_name):\n",
        "        super(Layer, self).__init__()\n",
        "        self.fwd=activation_dict[activation_name]['forward']\n",
        "        self.bwd=activation_dict[activation_name]['backward']\n",
        "\n",
        "    def forward(self, X):\n",
        "        self.input = X\n",
        "        self.output = self.fwd(X)\n",
        "        return self.output\n",
        "\n",
        "    def backward(self, upstream_g, learning_rate):\n",
        "        local_g = self.bwd(self.input)\n",
        "        return local_g*upstream_g"
      ]
    },
    {
      "cell_type": "markdown",
      "metadata": {
        "id": "qKx4NGICC-74"
      },
      "source": [
        "### `Model` class"
      ]
    },
    {
      "cell_type": "code",
      "execution_count": 108,
      "metadata": {
        "id": "iaEag2IkC-JR"
      },
      "outputs": [],
      "source": [
        "def binary_cross_entropy(y_true, y_pred):    \n",
        "    eps1=np.random.uniform(1e-07,1e-06)\n",
        "    eps2=np.random.uniform(1e-07,1e-06)\n",
        "    log_likelihood =  y_true * np.log(y_pred+eps1) + (1 - y_true) * np.log(1 - y_pred+eps2)\n",
        "    return -np.mean(log_likelihood)\n",
        "\n",
        "def binary_cross_entropy_prime(y_true,y_pred):\n",
        "    eps1=np.random.uniform(1e-07,1e-06)\n",
        "    eps2=np.random.uniform(1e-07,1e-06)\n",
        "    return np.mean(-y_true/(y_pred+eps1) + (1-y_true)/(1-y_pred+eps2))\n",
        "\n",
        "\n",
        "def cat_cross_entropy(y_true, y_pred):    \n",
        "    eps=np.random.uniform(1e-07,1e-06)\n",
        "    out = -np.mean(y_true*np.log(y_pred+eps))\n",
        "    return out/float(y_pred.shape[0])\n",
        "\n",
        "def cat_cross_entropy_prime(y_true,y_pred):\n",
        "    eps=np.random.uniform(1e-07,1e-06)\n",
        "    return np.mean([-y/(yhat+eps) for (y,yhat) in zip(y_true,y_pred)])\n",
        "\n",
        "\n",
        "loss_dict = {'binary_cross_entropy': {'forward':  binary_cross_entropy,\n",
        "                                      'backward': binary_cross_entropy_prime},\n",
        "             'cat_cross_entropy':    {'forward':  cat_cross_entropy,\n",
        "                                      'backward': cat_cross_entropy_prime}}\n",
        "\n",
        "def get_mini_batches(X,y,batch_size):\n",
        "    mini_batches = []\n",
        "    for i in range(0,len(X), batch_size):\n",
        "        lower = i\n",
        "        upper = np.min([len(X), i + batch_size])\n",
        "        X_batch = X[lower:upper]\n",
        "        y_batch = y[lower:upper]\n",
        "        mini_batches.append((X_batch,y_batch))\n",
        "\n",
        "    return mini_batches\n",
        "\n",
        "class Model:\n",
        "    def __init__(self,loss_name): \n",
        "        self.layers = []\n",
        "        self.loss_fwd = loss_dict[loss_name]['forward']\n",
        "        self.loss_bwd = loss_dict[loss_name]['backward']\n",
        "\n",
        "    def add(self, layer):\n",
        "        self.layers.append(layer)\n",
        "\n",
        "    def predict(self, input_data):\n",
        "        y_hat = []\n",
        "        Z = input_data\n",
        "        for layer in self.layers:\n",
        "            Z = layer.forward(Z)\n",
        "        y_hat = Z\n",
        "\n",
        "        return y_hat\n",
        "\n",
        "    def fit(self, x_train, y_train, epochs, batch_size, learning_rate, x_val=None, y_val=None):\n",
        "\n",
        "        history = {'accuracy': [],'loss': [],'val_accuracy': [],'val_loss': []}\n",
        "        \n",
        "        for e in range(epochs):\n",
        "            print(e)\n",
        "        \n",
        "            loss_,acc,val_loss,val_acc=0,0,0,0\n",
        "\n",
        "            mini_batches = get_mini_batches(x_train,y_train, batch_size)\n",
        "\n",
        "            for i, mini_batch in enumerate(mini_batches):\n",
        "                \n",
        "                print(f'batch: {i+1}/{len(mini_batches)+1}',end='/r')\n",
        "\n",
        "                x_batch = mini_batch[0]\n",
        "                y_batch = mini_batch[1]\n",
        "\n",
        "                # forward\n",
        "                Z = x_batch\n",
        "                for layer in self.layers:\n",
        "                    Z = layer.forward(Z)\n",
        "\n",
        "                y_real = y_batch\n",
        "                y_pred = Z\n",
        "\n",
        "                # compute loss and accuracy\n",
        "                loss_ += self.loss_fwd(y_real, y_pred)\n",
        "                acc += sum(np.where(np.argmax(y_real,axis=1)==np.argmax(y_pred,axis=1),1,0))\n",
        "\n",
        "                # backward\n",
        "                error = self.loss_bwd(y_real, y_pred)\n",
        "                for layer in (self.layers)[::-1]:\n",
        "                    error = layer.backward(error, learning_rate)\n",
        "              \n",
        "            loss_ /= x_train.shape[0]\n",
        "            acc  /= x_train.shape[0]\n",
        "            \n",
        "            history['loss'].append(loss_)\n",
        "            history['accuracy'].append(acc)\n",
        "\n",
        "            if x_val is None or y_val is None:\n",
        "                print(f'Epoch: {e}   loss = {str(round(loss_,3))}   acc = {str(round(acc,3))}')\n",
        "            else:\n",
        "                Z_val = x_val\n",
        "                for layer in self.layers:\n",
        "                    Z_val = layer.forward(Z_val)\n",
        "\n",
        "                y_real_val = y_val\n",
        "                y_pred_val = Z_val\n",
        "\n",
        "                val_loss = self.loss_fwd(y_real_val, y_pred_val)\n",
        "                #val_loss /= x_val.shape[0]\n",
        "                val_acc = sum(np.where(np.argmax(y_real_val,axis=1)==np.argmax(y_pred_val,axis=1),1,0))\n",
        "                val_acc  /= x_val.shape[0]                \n",
        "\n",
        "                history['val_accuracy'].append(val_acc)\n",
        "                history['val_loss'].append(val_loss)\n",
        "\n",
        "                print(f'Epoch: {e}   loss = {str(round(loss_,3))}   acc = {str(round(acc,3))}   val_loss = {str(round(val_loss,3))}   val_accuracy = {str(round(val_acc,3))}')\n",
        "\n",
        "            return history\n"
      ]
    },
    {
      "cell_type": "markdown",
      "metadata": {
        "id": "cbHmgJRtCj69"
      },
      "source": [
        "## Data collection"
      ]
    },
    {
      "cell_type": "markdown",
      "metadata": {
        "id": "8Oo5KOmoCzNm"
      },
      "source": [
        "### CIFAR10"
      ]
    },
    {
      "cell_type": "code",
      "execution_count": 109,
      "metadata": {
        "id": "uHl1tum3l-oL"
      },
      "outputs": [],
      "source": [
        "def load_cifar_data(folder,tiny=False):\n",
        "    train_batches = [f'{folder}/{f}' for f in os.listdir(folder) if 'batch_' in f]\n",
        "    test_batch    =  f'{folder}/test_batch'\n",
        "\n",
        "    # Get train data\n",
        "    X_trn = None\n",
        "    y_trn = []\n",
        "    for i in range(len(train_batches)):\n",
        "        train_data_dict = pickle.load(open(train_batches[i],'rb'), encoding='latin-1')\n",
        "        if i+1 == 1:\n",
        "            X_trn = train_data_dict['data']\n",
        "        else:\n",
        "            X_trn = np.vstack((X_trn, train_data_dict['data']))\n",
        "        y_trn += train_data_dict['labels']\n",
        "    X_trn = X_trn.reshape(len(X_trn),3,32,32)\n",
        "    X_trn = np.rollaxis(X_trn,1,4)\n",
        "    X_trn = X_trn.astype('float32')/255.0\n",
        "    y_trn = np_utils.to_categorical(np.asarray(y_trn),10)\n",
        "\n",
        "    # Get test data\n",
        "    test_data_dict  = pickle.load(open(test_batch,'rb'), encoding='latin-1')\n",
        "    X_tst = test_data_dict['data']\n",
        "    X_tst = X_tst.reshape(len(X_tst),3,32,32)\n",
        "    X_tst = np.rollaxis(X_tst,1,4)\n",
        "    X_tst = X_tst.astype('float32')/255.0\n",
        "    y_tst = np_utils.to_categorical(np.asarray(test_data_dict['labels']))\n",
        "    \n",
        "    n_90 = int(0.9*len(X_trn))\n",
        "    X_trn, X_val = X_trn[:n_90], X_trn[n_90:]\n",
        "    y_trn, y_val = y_trn[:n_90], y_trn[n_90:]\n",
        "\n",
        "    if tiny:\n",
        "        X_trn,y_trn,X_tst,y_tst,X_val,y_val = X_trn[:500],y_trn[:500],X_tst[:100],y_tst[:100],X_val[:100],y_val[:100]\n",
        "\n",
        "    return X_trn, y_trn, X_tst, y_tst, X_val, y_val\n",
        "\n",
        "data_dir = f'{root}/cifar-10-batches-py'\n",
        "X_trn_c10, y_trn_c10, X_tst_c10, y_tst_c10, X_val_c10, y_val_c10 = load_cifar_data(data_dir,tiny=True)"
      ]
    },
    {
      "cell_type": "code",
      "execution_count": 106,
      "metadata": {
        "id": "kRIJNY0dRvD2"
      },
      "outputs": [],
      "source": [
        "this_model = Model(loss_name='cat_cross_entropy')\n",
        "\n",
        "this_model.add(adder_layer(output_channels=8,kernel_size=3,stride=1,padding=1))\n",
        "this_model.add(Activation('relu'))\n",
        "this_model.add(MaxPool(pool_size=2))\n",
        "this_model.add(batch_norm_layer())\n",
        "\n",
        "\n",
        "this_model.add(Flatten())\n",
        "\n",
        "this_model.add(FullyConnected(output_channels=64))\n",
        "this_model.add(Activation('relu'))\n",
        "this_model.add(FullyConnected(output_channels=10))\n",
        "this_model.add(Activation('softmax'))"
      ]
    },
    {
      "cell_type": "code",
      "execution_count": 107,
      "metadata": {
        "colab": {
          "base_uri": "https://localhost:8080/",
          "height": 407
        },
        "id": "eBl1GKVe9MCg",
        "outputId": "52323963-2ccf-4be8-edf2-ddb95b02dfe2"
      },
      "outputs": [
        {
          "output_type": "stream",
          "name": "stdout",
          "text": [
            "0\n",
            "batch: 1/33\n",
            "batch: 2/33\n",
            "batch: 3/33\n",
            "batch: 4/33\n"
          ]
        },
        {
          "output_type": "error",
          "ename": "KeyboardInterrupt",
          "evalue": "ignored",
          "traceback": [
            "\u001b[0;31m---------------------------------------------------------------------------\u001b[0m",
            "\u001b[0;31mKeyboardInterrupt\u001b[0m                         Traceback (most recent call last)",
            "\u001b[0;32m<ipython-input-107-5b04b1d20d7a>\u001b[0m in \u001b[0;36m<module>\u001b[0;34m\u001b[0m\n\u001b[0;32m----> 1\u001b[0;31m \u001b[0mthis_model\u001b[0m\u001b[0;34m.\u001b[0m\u001b[0mfit\u001b[0m\u001b[0;34m(\u001b[0m\u001b[0mX_trn_c10\u001b[0m\u001b[0;34m,\u001b[0m\u001b[0my_trn_c10\u001b[0m\u001b[0;34m,\u001b[0m\u001b[0mepochs\u001b[0m\u001b[0;34m=\u001b[0m\u001b[0;36m20\u001b[0m\u001b[0;34m,\u001b[0m\u001b[0mbatch_size\u001b[0m\u001b[0;34m=\u001b[0m\u001b[0;36m16\u001b[0m\u001b[0;34m,\u001b[0m\u001b[0mlearning_rate\u001b[0m\u001b[0;34m=\u001b[0m\u001b[0;36m1e-03\u001b[0m\u001b[0;34m,\u001b[0m\u001b[0mx_val\u001b[0m\u001b[0;34m=\u001b[0m\u001b[0mX_val_c10\u001b[0m\u001b[0;34m,\u001b[0m\u001b[0my_val\u001b[0m\u001b[0;34m=\u001b[0m\u001b[0my_val_c10\u001b[0m\u001b[0;34m)\u001b[0m\u001b[0;34m\u001b[0m\u001b[0;34m\u001b[0m\u001b[0m\n\u001b[0m",
            "\u001b[0;32m<ipython-input-104-cb5c81e32bf3>\u001b[0m in \u001b[0;36mfit\u001b[0;34m(self, x_train, y_train, epochs, batch_size, learning_rate, x_val, y_val)\u001b[0m\n\u001b[1;32m     88\u001b[0m                 \u001b[0merror\u001b[0m \u001b[0;34m=\u001b[0m \u001b[0mself\u001b[0m\u001b[0;34m.\u001b[0m\u001b[0mloss_bwd\u001b[0m\u001b[0;34m(\u001b[0m\u001b[0my_real\u001b[0m\u001b[0;34m,\u001b[0m \u001b[0my_pred\u001b[0m\u001b[0;34m)\u001b[0m\u001b[0;34m\u001b[0m\u001b[0;34m\u001b[0m\u001b[0m\n\u001b[1;32m     89\u001b[0m                 \u001b[0;32mfor\u001b[0m \u001b[0mlayer\u001b[0m \u001b[0;32min\u001b[0m \u001b[0;34m(\u001b[0m\u001b[0mself\u001b[0m\u001b[0;34m.\u001b[0m\u001b[0mlayers\u001b[0m\u001b[0;34m)\u001b[0m\u001b[0;34m[\u001b[0m\u001b[0;34m:\u001b[0m\u001b[0;34m:\u001b[0m\u001b[0;34m-\u001b[0m\u001b[0;36m1\u001b[0m\u001b[0;34m]\u001b[0m\u001b[0;34m:\u001b[0m\u001b[0;34m\u001b[0m\u001b[0;34m\u001b[0m\u001b[0m\n\u001b[0;32m---> 90\u001b[0;31m                     \u001b[0merror\u001b[0m \u001b[0;34m=\u001b[0m \u001b[0mlayer\u001b[0m\u001b[0;34m.\u001b[0m\u001b[0mbackward\u001b[0m\u001b[0;34m(\u001b[0m\u001b[0merror\u001b[0m\u001b[0;34m,\u001b[0m \u001b[0mlearning_rate\u001b[0m\u001b[0;34m)\u001b[0m\u001b[0;34m\u001b[0m\u001b[0;34m\u001b[0m\u001b[0m\n\u001b[0m\u001b[1;32m     91\u001b[0m \u001b[0;34m\u001b[0m\u001b[0m\n\u001b[1;32m     92\u001b[0m             \u001b[0mloss_\u001b[0m \u001b[0;34m/=\u001b[0m \u001b[0mx_train\u001b[0m\u001b[0;34m.\u001b[0m\u001b[0mshape\u001b[0m\u001b[0;34m[\u001b[0m\u001b[0;36m0\u001b[0m\u001b[0;34m]\u001b[0m\u001b[0;34m\u001b[0m\u001b[0;34m\u001b[0m\u001b[0m\n",
            "\u001b[0;32m<ipython-input-44-276a0a10905e>\u001b[0m in \u001b[0;36mbackward\u001b[0;34m(self, upstream_g, learning_rate)\u001b[0m\n\u001b[1;32m    139\u001b[0m \u001b[0;34m\u001b[0m\u001b[0m\n\u001b[1;32m    140\u001b[0m                         \u001b[0mdx\u001b[0m\u001b[0;34m[\u001b[0m\u001b[0mv0\u001b[0m\u001b[0;34m:\u001b[0m\u001b[0mv1\u001b[0m\u001b[0;34m,\u001b[0m \u001b[0mv0\u001b[0m\u001b[0;34m:\u001b[0m\u001b[0mv1\u001b[0m\u001b[0;34m,\u001b[0m \u001b[0;34m:\u001b[0m\u001b[0;34m]\u001b[0m \u001b[0;34m+=\u001b[0m \u001b[0mdx_local\u001b[0m \u001b[0;34m*\u001b[0m \u001b[0mg\u001b[0m\u001b[0;34m\u001b[0m\u001b[0;34m\u001b[0m\u001b[0m\n\u001b[0;32m--> 141\u001b[0;31m                         \u001b[0mdfilters\u001b[0m\u001b[0;34m[\u001b[0m\u001b[0mc\u001b[0m\u001b[0;34m,\u001b[0m\u001b[0;34m:\u001b[0m\u001b[0;34m,\u001b[0m\u001b[0;34m:\u001b[0m\u001b[0;34m,\u001b[0m\u001b[0;34m:\u001b[0m\u001b[0;34m]\u001b[0m   \u001b[0;34m+=\u001b[0m \u001b[0mdf_local\u001b[0m \u001b[0;34m*\u001b[0m \u001b[0mg\u001b[0m\u001b[0;34m\u001b[0m\u001b[0;34m\u001b[0m\u001b[0m\n\u001b[0m\u001b[1;32m    142\u001b[0m                         \u001b[0;31m#dbias[c,:,:,:]      += g\u001b[0m\u001b[0;34m\u001b[0m\u001b[0;34m\u001b[0m\u001b[0;34m\u001b[0m\u001b[0m\n\u001b[1;32m    143\u001b[0m \u001b[0;34m\u001b[0m\u001b[0m\n",
            "\u001b[0;31mKeyboardInterrupt\u001b[0m: "
          ]
        }
      ],
      "source": [
        "this_model.fit(X_trn_c10,y_trn_c10,epochs=20,batch_size=16,learning_rate=1e-03,x_val=X_val_c10,y_val=y_val_c10)"
      ]
    },
    {
      "cell_type": "code",
      "source": [],
      "metadata": {
        "id": "XI4_IdBIqhNy"
      },
      "execution_count": 106,
      "outputs": []
    },
    {
      "cell_type": "code",
      "source": [
        "#this_model = Model(loss_name='cat_cross_entropy')\n",
        "# l1 = X_trn_c10\n",
        "# l1=adder_layer(output_channels=8,kernel_size=3,stride=1,padding=1).forward(l1)\n",
        "# print(l1.shape)\n",
        "# l2=Activation('relu').forward(l1)\n",
        "# print(l2.shape)\n",
        "# l3=MaxPool(pool_size=2).forward(l2)\n",
        "# print(l3.shape)\n",
        "# l4=batch_norm_layer().forward(l3)\n",
        "# print(l4.shape)\n",
        "\n",
        "# l5=Flatten().forward(l4)\n",
        "# print(l5.shape)\n",
        "# l6=FullyConnected(output_channels=64).forward(l5)\n",
        "# print(l6.shape)\n",
        "# l7=Activation('relu').forward(l6)\n",
        "# print(l7.shape)\n",
        "# l8=FullyConnected(output_channels=10).forward(l7)\n",
        "# print(l8.shape)\n",
        "# l9=Activation('softmax').forward(l8)\n",
        "# print(l9.shape)"
      ],
      "metadata": {
        "id": "W8_z0zzAqNIK"
      },
      "execution_count": 112,
      "outputs": []
    },
    {
      "cell_type": "code",
      "execution_count": null,
      "metadata": {
        "id": "i8Yv10oyGM8U"
      },
      "outputs": [],
      "source": [
        "cnn = Model(loss_name='cat_cross_entropy')\n",
        "\n",
        "cnn.add(conv_layer(output_channels=8,kernel_size=3,stride=1,padding=1))\n",
        "cnn.add(Activation('relu'))\n",
        "cnn.add(MaxPool(pool_size=2))\n",
        "cnn.add(batch_norm_layer())\n",
        "\n",
        "\n",
        "cnn.add(Flatten())\n",
        "\n",
        "cnn.add(FullyConnected(output_channels=64))\n",
        "cnn.add(Activation('relu'))\n",
        "cnn.add(FullyConnected(output_channels=10))\n",
        "cnn.add(Activation('softmax'))"
      ]
    },
    {
      "cell_type": "code",
      "execution_count": null,
      "metadata": {
        "id": "_9rx3vWnGPFM"
      },
      "outputs": [],
      "source": [
        "cnn.fit(X_trn_c10,y_trn_c10,10,1e-05,X_val_c10,y_val_c10)"
      ]
    },
    {
      "cell_type": "code",
      "execution_count": null,
      "metadata": {
        "id": "-sfJxcQWhwqV"
      },
      "outputs": [],
      "source": []
    }
  ],
  "metadata": {
    "colab": {
      "provenance": [],
      "include_colab_link": true
    },
    "kernelspec": {
      "display_name": "Python 3",
      "name": "python3"
    },
    "language_info": {
      "name": "python"
    }
  },
  "nbformat": 4,
  "nbformat_minor": 0
}