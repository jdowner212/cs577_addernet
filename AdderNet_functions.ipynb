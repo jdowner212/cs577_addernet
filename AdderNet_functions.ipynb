{
  "nbformat": 4,
  "nbformat_minor": 0,
  "metadata": {
    "colab": {
      "provenance": [],
      "collapsed_sections": [],
      "authorship_tag": "ABX9TyMWecjnMhf7Q+qVzz/4WCaR",
      "include_colab_link": true
    },
    "kernelspec": {
      "name": "python3",
      "display_name": "Python 3"
    },
    "language_info": {
      "name": "python"
    }
  },
  "cells": [
    {
      "cell_type": "markdown",
      "metadata": {
        "id": "view-in-github",
        "colab_type": "text"
      },
      "source": [
        "<a href=\"https://colab.research.google.com/github/jdowner212/cs577_addernet/blob/main/AdderNet_functions.ipynb\" target=\"_parent\"><img src=\"https://colab.research.google.com/assets/colab-badge.svg\" alt=\"Open In Colab\"/></a>"
      ]
    },
    {
      "cell_type": "code",
      "source": [
        "import numpy as np\n",
        "import torch\n",
        "import tensorflow as tf\n",
        "import tensorflow.keras.backend as K\n",
        "from tensorflow.python.ops.numpy_ops import np_config\n",
        "np_config.enable_numpy_behavior()\n"
      ],
      "metadata": {
        "id": "Q_XpZyGb_QSq"
      },
      "execution_count": 1,
      "outputs": []
    },
    {
      "cell_type": "code",
      "execution_count": 314,
      "metadata": {
        "id": "4LmN5vhI-2d7"
      },
      "outputs": [],
      "source": [
        "'''\n",
        "Functions described in paper\n",
        "'''\n",
        "\n",
        "def L1(a,b):\n",
        "    return -1*np.abs(a-b)\n",
        "\n",
        "def hard_tanh(array):\n",
        "    array = np.where(array<-1,-1,array)\n",
        "    array = np.where(array>1, 1, array)\n",
        "    return array\n",
        "\n",
        "'''Equation 1'''\n",
        "# modified by Equation 2\n",
        "\n",
        "'''Equation 5'''\n",
        "def dY_dF_element(image,filters,m,n,i,j,k,t):\n",
        "    return image[k,m+i,n+j] - filter[t,k,i,j]\n",
        "\n",
        "'''Equation 6''' # clipped, full-precision gradient\n",
        "def dY_dImage_element(image,filters,m,n,i,j,k,t):\n",
        "    return hard_tanh(filter[t,k,i,j] - image[k,m+i,n+j])\n",
        "\n",
        "def window_gradients(image,filters,m,n,t):\n",
        "    dy_df_window = np.zeros_like(filters)\n",
        "    dy_dx_window = np.zeros_like(image)\n",
        "\n",
        "    num_filters, k_depth, k_height, k_width = filters.shape\n",
        "    for k in range(k_depth):\n",
        "        for j in range(k_width):\n",
        "            for i in range(k_height):\n",
        "                img_minus_f = dY_dF_element(image,filters,m,n,i,j,k,t)\n",
        "                dy_df_window[t,k,i,j] = img_minus_f\n",
        "                dy_dx_window[k,i,j]   = hard_tanh(img_minus_f)\n",
        "                \n",
        "    return dy_df_window, dy_dx_window\n",
        "\n",
        "'''Equation 2'''\n",
        "def Y_adder(image, F, m, n, t, similarity_f=L1): # image, group fo filters, row#, col#, filter#, similarity function\n",
        "    sum_ = 0\n",
        "    num_filters, k_depth, k_height, k_width = F.shape\n",
        "    for k in range(k_depth):\n",
        "        for j in range(k_width):\n",
        "            for i in range(k_height):\n",
        "                sum_ += similarity_f(image[k, m+i, n+j], F[t,k,i,j])\n",
        "    return sum_"
      ]
    },
    {
      "cell_type": "code",
      "source": [
        "\n"
      ],
      "metadata": {
        "id": "XXD1EBq5JSg8"
      },
      "execution_count": 246,
      "outputs": []
    },
    {
      "cell_type": "code",
      "source": [
        "images = np.random.randint(0,10,(1,3,5,5))\n",
        "filters = np.random.randint(0,10,(5,3,3,3))\n",
        "forward_batch(images,filters,1,0)#.shape\n"
      ],
      "metadata": {
        "colab": {
          "base_uri": "https://localhost:8080/"
        },
        "id": "Vo8oVetNd7IC",
        "outputId": "3289f277-3ee0-4c20-d19d-e2f046db38e8"
      },
      "execution_count": 247,
      "outputs": [
        {
          "output_type": "execute_result",
          "data": {
            "text/plain": [
              "array([[[[[ -85.,  -95.,  -71.],\n",
              "          [-107.,  -90., -103.],\n",
              "          [-109.,  -57., -101.]]],\n",
              "\n",
              "\n",
              "        [[[ -96.,  -82.,  -90.],\n",
              "          [ -88.,  -77.,  -82.],\n",
              "          [ -94.,  -94.,  -86.]]],\n",
              "\n",
              "\n",
              "        [[[ -92.,  -82.,  -96.],\n",
              "          [ -90.,  -85.,  -86.],\n",
              "          [-100.,  -82.,  -78.]]],\n",
              "\n",
              "\n",
              "        [[[-105.,  -83.,  -95.],\n",
              "          [ -93.,  -76., -111.],\n",
              "          [ -95.,  -97., -101.]]],\n",
              "\n",
              "\n",
              "        [[[ -94.,  -96., -100.],\n",
              "          [ -74.,  -87.,  -84.],\n",
              "          [ -88.,  -72.,  -84.]]]]])"
            ]
          },
          "metadata": {},
          "execution_count": 247
        }
      ]
    },
    {
      "cell_type": "code",
      "source": [
        "model = tf.keras.models.Sequential()"
      ],
      "metadata": {
        "id": "O1osm2Hq8rse"
      },
      "execution_count": 256,
      "outputs": []
    },
    {
      "cell_type": "code",
      "source": [
        "model.add.layers(tf.keras.layers.Conv2D(filters))"
      ],
      "metadata": {
        "id": "WzNqNWiX9MCg"
      },
      "execution_count": null,
      "outputs": []
    },
    {
      "cell_type": "code",
      "source": [
        "tf.keras.layers.Conv2D"
      ],
      "metadata": {
        "colab": {
          "base_uri": "https://localhost:8080/"
        },
        "id": "oWjtjrOm91kH",
        "outputId": "f5644322-dcfd-46b6-b300-67d67404ae9a"
      },
      "execution_count": 260,
      "outputs": [
        {
          "output_type": "execute_result",
          "data": {
            "text/plain": [
              "keras.layers.convolutional.conv2d.Conv2D"
            ]
          },
          "metadata": {},
          "execution_count": 260
        }
      ]
    },
    {
      "cell_type": "code",
      "source": [
        "\n",
        "'''Equation 3'''\n",
        "# ignore -- CNN formula\n",
        "\n",
        "'''Equation 4'''\n",
        "# ignore -- updated with equation 5\n",
        "\n",
        "'''Equation 7'''\n",
        "# ignore -- hard_tanh implemented previously\n",
        "\n",
        "'''Equation 8'''\n",
        "# ignore -- CNN formula\n",
        "\n",
        "'''Equation 9'''\n",
        "# def var_Y_adder(X,F,variance_f=torch.var):\n",
        "    # check torch.var documentation: https://pytorch.org/docs/stable/generated/torch.var.html\n",
        "    # not sure if we can call torch.var(X) with default parameters\n",
        "    # or if we need to specify. Does this output a scalar or a tensor?\n",
        "# Trying K.var as tensorflow substitute for torch.var -- make sure they work the same\n",
        "# or tf.var?\n",
        "def var_Y_adder(X,F,variance_f=K.var):\n",
        "    var_X = variance_f(X)\n",
        "    var_F = variance_f(F)\n",
        "    ###\n",
        "    _, c_in, d, _ = F.shape\n",
        "    pi = np.pi\n",
        "\n",
        "    return np.sqrt(pi/2)*(d**2)*(c_in)*(var_X + var_F)\n",
        "\n",
        "'''Equation 10'''\n",
        "def batch_norm(minibatch, gamma, beta):\n",
        "    m = len(minibatch)\n",
        "    mean = (1/m)*sum(minibatch)\n",
        "    std = (1/m)*sum([(x_i-mean)**2 for x_i in minibatch])\n",
        "    gamma*(minibatch-mean)/std + beta\n",
        "    return gamma*(minibatch-mean)/std + beta\n",
        "\n",
        "'''Equation 11'''\n",
        "def dL_dMinibatch_i(minibatch,dL_dy,i,L,gamma):\n",
        "    # In dL_dy, y is the result of applying batch_norm to the minibatch\n",
        "    m = len(minibatch)\n",
        "    mean = (1/m)*sum(minibatch)\n",
        "    std = (1/m)*sum([(x_i-mean)**2 for x_i in minibatch])\n",
        "    \n",
        "    sum_ = 0\n",
        "    for j in range(m):\n",
        "        x_term = (minibatch[i]-minibatch[j])*(minibatch[j]-mean)/std\n",
        "        sum_ += (dL_dy[i] - dL_dy[j]*(1 + x_term))\n",
        "    sum_ *= gamma/((m**2)*std)\n",
        "    \n",
        "    return sum_\n",
        "\n",
        "'''Equation 12'''\n",
        "# update rule for F\n",
        "def delta_F_l(adaptive_lr_l, dL_dF_l, gamma):\n",
        "    # the update delta for the filter in layer l\n",
        "    return gamma*adaptive_lr_l*dL_dF_l\n",
        "\n",
        "'''Equation 13'''\n",
        "def adaptive_lr_l(dL_dF_l, eta, k):\n",
        "    # k = number of elements in F_l -- I think equal to len(dL_dF_1)\n",
        "    # in which case we don't need to explicitly provide it\n",
        "    \n",
        "    \n",
        "    # l2_norm = torch.sqrt([g**2 for g in dL_dF_l])\n",
        "    l2_norm = K.sqrt([g**2 for g in dL_dF_l]) # make sure torch.sqrt and K.sqrt are equivalents\n",
        "    \n",
        "    \n",
        "    return eta*np.sqrt(k)/l2_norm"
      ],
      "metadata": {
        "id": "GcKuPTjCjLEo"
      },
      "execution_count": null,
      "outputs": []
    },
    {
      "cell_type": "code",
      "source": [
        "# dimensions: NxHxWxC\n",
        "\n",
        "def relu(array):\n",
        "    return np.where(array>=0,array,0)\n",
        "\n",
        "def addernet_single_step(window, filter, b=None, similarity_f=L1):\n",
        "    \"\"\"\n",
        "    window -- k_h x k_w x k_d\n",
        "    filter -- k_h x k_w x k_d\n",
        "    b      -- 1x1x1\n",
        "    Z      -- scalar\n",
        "    \"\"\"\n",
        "    k_h,k_w,k_d = filter.shape\n",
        "    out=0\n",
        "    for h in range(k_h):\n",
        "        for w in range(k_w):\n",
        "            for d in range(k_d):\n",
        "                out += similarity_f(window[h,w,d], filter[h,w,d])\n",
        "\n",
        "    if not b:\n",
        "        b = np.zeros((1,1,1))\n",
        "    out += b.astype(float)\n",
        "\n",
        "    return out\n",
        "\n",
        "class addernet_layer:\n",
        "    def __init__(self,F,X,stride=1,padding=0,activation=relu,B=None):\n",
        "        self.F = F\n",
        "        self.X = X\n",
        "        self.s = stride\n",
        "        self.p = padding\n",
        "        self.act = activation\n",
        "        B = np.zeros((F.shape[0],1,1,1)) if not B else B\n",
        "        self.B = B\n",
        "\n",
        "    def forward(self):\n",
        "        \"\"\"    \n",
        "        X -- n_tensors x H x W x c_in\n",
        "        F -- c_out x k_H x k_W x c_in\n",
        "        b -- c_out x 1 x 1 x 1\n",
        "        Z -- n_tensors x H_new x W_new, c_out\n",
        "        cache -- info needed for backward pass\n",
        "        \"\"\"\n",
        "        X,F,s,p,act,B = self.X, self.F, self.s, self.p, self.act, self.B\n",
        "        n_tensors, H,   W,   c_in = X.shape\n",
        "        c_out,     k_H, k_W, c_in = F.shape\n",
        "        n_filters = c_out\n",
        "\n",
        "        H_new = int((H + 2*p - k_H)/s)+1\n",
        "        W_new = int((W + 2*p - k_W)/s)+1\n",
        "\n",
        "        \n",
        "        Z = np.zeros([n_tensors, H_new, W_new, c_out])\n",
        "        X_padded = np.pad(X, ((0,0), (p,p), (p,p), (0,0)), 'constant', constant_values = (0,0))\n",
        "        \n",
        "        for i in range(n_tensors):           # traverse batch\n",
        "            this_img = X_padded[i,:,:,:]     # select ith image in batch\n",
        "            for f in range(n_filters):       # traverse filters\n",
        "                this_filter = F[f,:,:,:]\n",
        "                this_B = B[f,:,:,:]\n",
        "                for h in range(H_new):       # traverse height\n",
        "                    for w in range(W_new):   # traverse width\n",
        "                        \n",
        "                        v0 = h*s\n",
        "                        v1 = h*s + k_H\n",
        "                        h0 = w*s \n",
        "                        h1 = w*s + k_W\n",
        "                        \n",
        "                        this_window = this_img[v0:v1,h0:h1,:]\n",
        "\n",
        "                        Z[i, h, w, f] = addernet_single_step(this_window, this_filter, this_B) \n",
        "\n",
        "        Z = act(Z)                             \n",
        "        assert Z.shape == (n_tensors, H_new, W_new, n_filters)\n",
        "        cache = (X, W, B, s, p)\n",
        "        return Z, cache\n",
        "\n",
        "    def backward(upstream_g, cache):\n",
        "        \"\"\"\n",
        "        upstream_g (dL/dZ) -- n_tensors x H_up x W_up x c_up\n",
        "        cache (values from previous layers) -- (X, W, B, s, p)               \n",
        "        \n",
        "        Output:\n",
        "        dX -- dL/dX, shape n_tensors x H_down x W_down x c_down\n",
        "        dW -- dL/dW, shape k x k x k x n_filters\n",
        "        dB -- dL/dB, shape 1 x 1 x 1 x n_filters\n",
        "        \"\"\"\n",
        "        \n",
        "        X, W, B, s, p = cache\n",
        "        n_tensors, H_down, W_down, c_down = X.shape\n",
        "        k, k, k, n_filters = W.shape\n",
        "        \n",
        "        n_tensors, H_up, W_up, c_up = upstream_g.shape\n",
        "        \n",
        "\n",
        "        dX_down = np.zeros((n_tensors, H_down, W_down, c_down))                           \n",
        "        dW = np.zeros((k, k, k, n_filters))\n",
        "        dB = np.zeros((1, 1, 1, n_filters))\n",
        "\n",
        "        X_padded = np.pad(X, ((0,0), (p,p), (p,p), (0,0)), 'constant', constant_values = (0,0))\n",
        "        dX_down_padded = np.pad(dX_down, ((0,0), (p,p), (p,p), (0,0)), 'constant', constant_values = (0,0))\n",
        "        \n",
        "        for i in range(n_tensors):                       \n",
        "            x = X_padded[i]\n",
        "            dx = dX_down_padded[i]\n",
        "            \n",
        "            for h in range(H_up):                   # loop over vertical axis of the output volume\n",
        "                for w in range(W_up):               # loop over horizontal axis of the output volume\n",
        "                    for c in range(c_up):           # loop over the channels of the output volume\n",
        "                        \n",
        "                        v0,v1 = h,h+k\n",
        "                        h0,h1 = w,w+k\n",
        "                        \n",
        "                        x_window = x[v0:v1, h0:v1, :]\n",
        "                        dx_local = x_window-W[:,:,:,c]\n",
        "                        dw_local = hard_tanh(W[:,:,:,c]-x_window)\n",
        "\n",
        "                        dx[v0:v1, v0:v1, :] += dx_local * upstream_g[i, h, w, c]\n",
        "                        dW[:,:,:,c] += dw_local * upstream_g[i, h, w, c]\n",
        "                        dB[:,:,:,c] += upstream_g[i, h, w, c]\n",
        "                        \n",
        "            dX_down[i, :, :, :] = dx[p:-p, p:-p, :]\n",
        "        \n",
        "        assert(dX_down.shape == (n_tensors, H_down, W_down, c_down))\n",
        "        return dX_down, dW, dB"
      ],
      "metadata": {
        "id": "CnPeNX0zDoEQ"
      },
      "execution_count": 386,
      "outputs": []
    },
    {
      "cell_type": "code",
      "source": [
        "layer = addernet_layer(filters,images,1,1,relu,None)"
      ],
      "metadata": {
        "id": "SXZRf9nrZJU-"
      },
      "execution_count": 387,
      "outputs": []
    },
    {
      "cell_type": "code",
      "source": [
        "Z,cache = layer.forward()\n",
        "Z.shape"
      ],
      "metadata": {
        "id": "1v2vzztRZhP8",
        "outputId": "d65a0469-0764-4bd2-eca6-033f6d4a253c",
        "colab": {
          "base_uri": "https://localhost:8080/"
        }
      },
      "execution_count": 388,
      "outputs": [
        {
          "output_type": "execute_result",
          "data": {
            "text/plain": [
              "(1, 5, 5, 5)"
            ]
          },
          "metadata": {},
          "execution_count": 388
        }
      ]
    },
    {
      "cell_type": "code",
      "source": [],
      "metadata": {
        "id": "u_BVtrrObPnc"
      },
      "execution_count": null,
      "outputs": []
    }
  ]
}